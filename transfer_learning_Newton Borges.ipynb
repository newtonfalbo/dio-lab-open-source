{
  "nbformat": 4,
  "nbformat_minor": 0,
  "metadata": {
    "colab": {
      "provenance": [],
      "authorship_tag": "ABX9TyP5WjnzoYsMhgWz1wbXshxU",
      "include_colab_link": true
    },
    "kernelspec": {
      "name": "python3",
      "display_name": "Python 3"
    },
    "language_info": {
      "name": "python"
    }
  },
  "cells": [
    {
      "cell_type": "markdown",
      "metadata": {
        "id": "view-in-github",
        "colab_type": "text"
      },
      "source": [
        "<a href=\"https://colab.research.google.com/github/newtonfalbo/dio-lab-open-source/blob/main/transfer_learning_Newton%20Borges.ipynb\" target=\"_parent\"><img src=\"https://colab.research.google.com/assets/colab-badge.svg\" alt=\"Open In Colab\"/></a>"
      ]
    },
    {
      "cell_type": "code",
      "source": [
        "try:\n",
        "    import tensorflow as tf\n",
        "    import tensorflow_datasets as tfds\n",
        "    import matplotlib.pyplot as plt\n",
        "    import numpy as np\n",
        "    from tensorflow.keras import layers, models\n",
        "except ModuleNotFoundError as e:\n",
        "    print(\"Erro ao importar módulos. Certifique-se de que o TensorFlow está instalado.\")\n",
        "    raise e\n",
        "\n",
        "# Configuração do ambiente\n",
        "print(\"Versão do TensorFlow:\", tf.__version__)\n",
        "\n",
        "def carregar_dataset():\n",
        "    # Carregar dataset de gatos e cachorros\n",
        "    (ds_train, ds_test), ds_info = tfds.load(\n",
        "        'cats_vs_dogs',\n",
        "        split=['train[:80%]', 'train[80%:]'],\n",
        "        as_supervised=True,\n",
        "        with_info=True\n",
        "    )\n",
        "    return ds_train, ds_test, ds_info\n",
        "\n",
        "def preprocess_image(image, label):\n",
        "    image = tf.image.resize(image, (224, 224)) / 255.0  # Normalização\n",
        "    return image, label\n",
        "\n",
        "def preparar_datasets(ds_train, ds_test):\n",
        "    ds_train = ds_train.map(preprocess_image).batch(32).shuffle(1000).prefetch(tf.data.AUTOTUNE)\n",
        "    ds_test = ds_test.map(preprocess_image).batch(32).prefetch(tf.data.AUTOTUNE)\n",
        "    return ds_train, ds_test\n",
        "\n",
        "def construir_modelo():\n",
        "    base_model = tf.keras.applications.MobileNetV2(input_shape=(224, 224, 3), include_top=False, weights='imagenet')\n",
        "    base_model.trainable = False  # Congela o modelo base\n",
        "\n",
        "    model = models.Sequential([\n",
        "        base_model,\n",
        "        layers.GlobalAveragePooling2D(),\n",
        "        layers.Dense(1, activation='sigmoid')\n",
        "    ])\n",
        "\n",
        "    model.compile(optimizer='adam', loss='binary_crossentropy', metrics=['accuracy'])\n",
        "    return model\n",
        "\n",
        "# Executar pipeline\n",
        "ds_train, ds_test, ds_info = carregar_dataset()\n",
        "ds_train, ds_test = preparar_datasets(ds_train, ds_test)\n",
        "modelo = construir_modelo()\n",
        "\n",
        "# Treinamento\n",
        "history = modelo.fit(ds_train, validation_data=ds_test, epochs=5)\n",
        "\n",
        "# Avaliação\n",
        "loss, acc = modelo.evaluate(ds_test)\n",
        "print(f'Acurácia do modelo: {acc:.2f}')\n",
        "\n",
        "# Salvar modelo\n",
        "modelo.save(\"transfer_learning_model.h5\")"
      ],
      "metadata": {
        "colab": {
          "base_uri": "https://localhost:8080/"
        },
        "id": "KGlvU_tsfLfk",
        "outputId": "f1c3f464-455d-4f11-eb5f-0e996a6b2185"
      },
      "execution_count": null,
      "outputs": [
        {
          "output_type": "stream",
          "name": "stdout",
          "text": [
            "Versão do TensorFlow: 2.18.0\n",
            "Epoch 1/5\n",
            "\u001b[1m410/582\u001b[0m \u001b[32m━━━━━━━━━━━━━━\u001b[0m\u001b[37m━━━━━━\u001b[0m \u001b[1m3:48\u001b[0m 1s/step - accuracy: 0.9304 - loss: 0.1758"
          ]
        }
      ]
    }
  ]
}